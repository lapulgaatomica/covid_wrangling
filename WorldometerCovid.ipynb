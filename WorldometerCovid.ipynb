{
 "cells": [
  {
   "cell_type": "code",
   "execution_count": 2,
   "metadata": {},
   "outputs": [],
   "source": [
    "#import necessary packages\n",
    "import pandas as pd\n",
    "import json\n",
    "import requests\n",
    "from bs4 import BeautifulSoup\n",
    "import matplotlib.pyplot as plt\n",
    "from fuzzywuzzy import fuzz"
   ]
  },
  {
   "cell_type": "code",
   "execution_count": 3,
   "metadata": {},
   "outputs": [],
   "source": [
    "import urllib.request, urllib.parse\n",
    "from urllib.error import HTTPError,URLError\n",
    "\n",
    "def get_countries_data():\n",
    "    \"\"\"\n",
    "    Function to get information like population from all countries\n",
    "    \"\"\"\n",
    "    url = 'https://restcountries.eu/rest/v2/all'\n",
    "    try:\n",
    "        uh = urllib.request.urlopen(url)\n",
    "    except HTTPError as e:\n",
    "        print(\"Sorry! Could not retrive anything on {}\".format(country_name))\n",
    "        return None\n",
    "    except URLError as e:\n",
    "        print('Failed to reach a server.')\n",
    "        print('Reason: ', e.reason)\n",
    "        return None\n",
    "    else:\n",
    "        data = uh.read().decode()\n",
    "        return data"
   ]
  },
  {
   "cell_type": "code",
   "execution_count": 4,
   "metadata": {},
   "outputs": [],
   "source": [
    "countries_data = get_countries_data()"
   ]
  },
  {
   "cell_type": "code",
   "execution_count": 5,
   "metadata": {},
   "outputs": [],
   "source": [
    "#make a request to worldometers coronavirus page\n",
    "worldo = requests.get('https://www.worldometers.info/coronavirus/')"
   ]
  },
  {
   "cell_type": "code",
   "execution_count": 6,
   "metadata": {},
   "outputs": [],
   "source": [
    "#Parse the page using beautifulsoup and extract the table containing covid-19 cases\n",
    "soup = BeautifulSoup(worldo.text, 'lxml')\n",
    "table = soup.find_all('table')\n",
    "#Create a pandas dataframe object out of the parsed page\n",
    "worldometer_dataframe = pd.read_html(str(table))[0]\n",
    "columns = ['Country', 'Total Cases', 'Drop1', 'Total Deaths', \n",
    "           'Drop2', 'Total Recovered', 'Active Cases', 'Serious / Critical Cases', 'Drop3', 'Drop4', 'Total Tests', 'Drop5']\n",
    "worldometer_dataframe.columns = columns\n",
    "worldometer_dataframe.drop(['Drop1', 'Drop2', 'Drop3', 'Drop4', 'Drop5'], axis=1, inplace=True)\n",
    "worldometer_dataframe.drop([0, len(worldometer_dataframe.index) -1 ], inplace=True)#Remove the first and last rows from thetable"
   ]
  },
  {
   "cell_type": "code",
   "execution_count": 7,
   "metadata": {},
   "outputs": [],
   "source": [
    "population_json = json.loads(countries_data)\n",
    "worldometer_json = json.loads(worldometer_dataframe.to_json(orient=\"records\"))"
   ]
  },
  {
   "cell_type": "code",
   "execution_count": 8,
   "metadata": {},
   "outputs": [],
   "source": [
    "countries =[{'name': country['name'] ,'alt': country['altSpellings'] , 'native name': country['nativeName'], 'population': country['population']} for country in population_json]\n",
    "\n",
    "for each_dict in worldometer_json:#First iteration that compares the country name in the worldometer table to the country name gotten from restcountries.eu api\n",
    "    for country in countries:\n",
    "        if (each_dict['Country'] == country['name']) or (each_dict['Country'] == country['native name']):\n",
    "            each_dict['population'] = country['population']\n",
    "            countries.remove(country)#remove the country from the list to make it smaller\n",
    "\n",
    "for each_dict in worldometer_json:\n",
    "    if 'population' not in each_dict:\n",
    "        for country in countries:\n",
    "            if(fuzz.partial_ratio(each_dict['Country'], country['name']) == 100):\n",
    "                each_dict['population'] = country['population']\n",
    "                countries.remove(country)\n",
    "                \n",
    "for each_dict in worldometer_json:\n",
    "    if 'population' not in each_dict:\n",
    "        for country in countries:\n",
    "            if each_dict['Country'] in country['alt']:\n",
    "                each_dict['population'] = country['population']\n",
    "                countries.remove(country)\n",
    "                         \n",
    "mapping = {'S. Korea' : 'Korea (Republic of)', \n",
    "           'Czechia': 'Czech Republic', \n",
    "           'Vietnam' : 'Viet Nam', \n",
    "           'North Macedonia': 'Macedonia (the former Yugoslav Republic of)'}\n",
    "\n",
    "for each_dict in worldometer_json:\n",
    "    if ('population' not in each_dict) and (each_dict['Country'] in mapping):\n",
    "        for country in countries: \n",
    "            if (country['name'] == mapping[each_dict['Country']]):\n",
    "                each_dict['population'] = country['population']\n",
    "                countries.remove(country)"
   ]
  },
  {
   "cell_type": "code",
   "execution_count": 9,
   "metadata": {},
   "outputs": [
    {
     "data": {
      "text/html": [
       "<div>\n",
       "<style scoped>\n",
       "    .dataframe tbody tr th:only-of-type {\n",
       "        vertical-align: middle;\n",
       "    }\n",
       "\n",
       "    .dataframe tbody tr th {\n",
       "        vertical-align: top;\n",
       "    }\n",
       "\n",
       "    .dataframe thead th {\n",
       "        text-align: right;\n",
       "    }\n",
       "</style>\n",
       "<table border=\"1\" class=\"dataframe\">\n",
       "  <thead>\n",
       "    <tr style=\"text-align: right;\">\n",
       "      <th></th>\n",
       "      <th>Country</th>\n",
       "      <th>Total Cases</th>\n",
       "      <th>Total Deaths</th>\n",
       "      <th>Total Recovered</th>\n",
       "      <th>Active Cases</th>\n",
       "      <th>Serious / Critical Cases</th>\n",
       "      <th>Total Tests</th>\n",
       "      <th>population</th>\n",
       "    </tr>\n",
       "  </thead>\n",
       "  <tbody>\n",
       "    <tr>\n",
       "      <th>1</th>\n",
       "      <td>USA</td>\n",
       "      <td>1132038</td>\n",
       "      <td>65783.0</td>\n",
       "      <td>161666.0</td>\n",
       "      <td>904589</td>\n",
       "      <td>16481.0</td>\n",
       "      <td>6700781.0</td>\n",
       "      <td>323947000.0</td>\n",
       "    </tr>\n",
       "    <tr>\n",
       "      <th>2</th>\n",
       "      <td>Spain</td>\n",
       "      <td>245567</td>\n",
       "      <td>25100.0</td>\n",
       "      <td>146233.0</td>\n",
       "      <td>74234</td>\n",
       "      <td>2500.0</td>\n",
       "      <td>1528833.0</td>\n",
       "      <td>46438422.0</td>\n",
       "    </tr>\n",
       "    <tr>\n",
       "      <th>3</th>\n",
       "      <td>Italy</td>\n",
       "      <td>207428</td>\n",
       "      <td>28236.0</td>\n",
       "      <td>78249.0</td>\n",
       "      <td>100943</td>\n",
       "      <td>1578.0</td>\n",
       "      <td>2053425.0</td>\n",
       "      <td>60665551.0</td>\n",
       "    </tr>\n",
       "    <tr>\n",
       "      <th>4</th>\n",
       "      <td>UK</td>\n",
       "      <td>177454</td>\n",
       "      <td>27510.0</td>\n",
       "      <td>NaN</td>\n",
       "      <td>149600</td>\n",
       "      <td>1559.0</td>\n",
       "      <td>1023824.0</td>\n",
       "      <td>65110000.0</td>\n",
       "    </tr>\n",
       "    <tr>\n",
       "      <th>5</th>\n",
       "      <td>France</td>\n",
       "      <td>167346</td>\n",
       "      <td>24594.0</td>\n",
       "      <td>50212.0</td>\n",
       "      <td>92540</td>\n",
       "      <td>3878.0</td>\n",
       "      <td>1100228.0</td>\n",
       "      <td>66710000.0</td>\n",
       "    </tr>\n",
       "  </tbody>\n",
       "</table>\n",
       "</div>"
      ],
      "text/plain": [
       "  Country  Total Cases  Total Deaths  Total Recovered  Active Cases  \\\n",
       "1     USA      1132038       65783.0         161666.0        904589   \n",
       "2   Spain       245567       25100.0         146233.0         74234   \n",
       "3   Italy       207428       28236.0          78249.0        100943   \n",
       "4      UK       177454       27510.0              NaN        149600   \n",
       "5  France       167346       24594.0          50212.0         92540   \n",
       "\n",
       "   Serious / Critical Cases  Total Tests   population  \n",
       "1                   16481.0    6700781.0  323947000.0  \n",
       "2                    2500.0    1528833.0   46438422.0  \n",
       "3                    1578.0    2053425.0   60665551.0  \n",
       "4                    1559.0    1023824.0   65110000.0  \n",
       "5                    3878.0    1100228.0   66710000.0  "
      ]
     },
     "execution_count": 9,
     "metadata": {},
     "output_type": "execute_result"
    }
   ],
   "source": [
    "corona_virus_detailed_table = pd.DataFrame(worldometer_json)\n",
    "corona_virus_detailed_table.sort_values(by='Total Cases', ascending=False, inplace=True)\n",
    "corona_virus_detailed_table.index = range(1, len(worldometer_dataframe) + 1)\n",
    "corona_virus_detailed_table.head()"
   ]
  },
  {
   "cell_type": "code",
   "execution_count": 10,
   "metadata": {},
   "outputs": [
    {
     "data": {
      "image/png": "[encoded data removed]",
      "text/plain": [
       "<Figure size 360x360 with 1 Axes>"
      ]
     },
     "metadata": {},
     "output_type": "display_data"
    }
   ],
   "source": [
    "columns = ['Country', 'Total Cases']\n",
    "countries_world_share = pd.DataFrame(corona_virus_detailed_table, columns = columns)\n",
    "countries_world_share['World Share'] = countries_world_share['Total Cases'] / sum(countries_world_share['Total Cases']) * 100\n",
    "more_than_2 = countries_world_share[countries_world_share['World Share'] >= 2]\n",
    "less_than_2 = countries_world_share[countries_world_share['World Share'] < 2]\n",
    "others = pd.DataFrame({'Country' : 'Others', 'Total Cases' : less_than_2['Total Cases'].sum(), \n",
    "                       'World Share': less_than_2['World Share'].sum()}, index=[len(more_than_2) + 1])\n",
    "\n",
    "world_share_aggregate = pd.concat([more_than_2, others], axis=0)\n",
    "world_share_aggregate.set_index('Country').plot.pie(y='World Share', figsize=(5,5), startangle=90, legend=False)\n",
    "plt.show()"
   ]
  },
  {
   "cell_type": "code",
   "execution_count": 14,
   "metadata": {},
   "outputs": [
    {
     "data": {
      "text/plain": [
       "<matplotlib.axes._subplots.AxesSubplot at 0x390da2ff48>"
      ]
     },
     "execution_count": 14,
     "metadata": {},
     "output_type": "execute_result"
    },
    {
     "data": {
      "image/png": "[encoded data removed]",
      "text/plain": [
       "<Figure size 432x288 with 1 Axes>"
      ]
     },
     "metadata": {
      "needs_background": "light"
     },
     "output_type": "display_data"
    }
   ],
   "source": [
    "tests_per_capita_table = pd.DataFrame(corona_virus_detailed_table, columns=['Country','Total Tests', 'population'])\n",
    "tests_per_capita_table['Test Per Capita'] = tests_per_capita_table['Total Tests']/tests_per_capita_table['population']\n",
    "tests_per_capita_table.sort_values(by='Test Per Capita', ascending=False, inplace=True)\n",
    "tests_per_capita_table.index = range(1, len(tests_per_capita_table) + 1)\n",
    "tests_per_capita_table.head(10).plot.barh(x='Country', y='Test Per Capita')"
   ]
  },
  {
   "cell_type": "code",
   "execution_count": 15,
   "metadata": {},
   "outputs": [
    {
     "data": {
      "text/plain": [
       "<matplotlib.axes._subplots.AxesSubplot at 0x390da45e08>"
      ]
     },
     "execution_count": 15,
     "metadata": {},
     "output_type": "execute_result"
    },
    {
     "data": {
      "image/png": "[encoded data removed]",
      "text/plain": [
       "<Figure size 432x288 with 1 Axes>"
      ]
     },
     "metadata": {
      "needs_background": "light"
     },
     "output_type": "display_data"
    }
   ],
   "source": [
    "tpct_over_ten_million = tests_per_capita_table[tests_per_capita_table['population'] >= 10000000]\n",
    "tpct_over_ten_million.index = range(1, len(tpct_over_ten_million) + 1)\n",
    "tpct_over_ten_million.head(10).plot.barh(x='Country', y='Test Per Capita')"
   ]
  },
  {
   "cell_type": "code",
   "execution_count": 18,
   "metadata": {},
   "outputs": [
    {
     "data": {
      "text/plain": [
       "<matplotlib.axes._subplots.AxesSubplot at 0x390645ad88>"
      ]
     },
     "execution_count": 18,
     "metadata": {},
     "output_type": "execute_result"
    },
    {
     "data": {
      "image/png": "[encoded data removed]",
      "text/plain": [
       "<Figure size 432x288 with 1 Axes>"
      ]
     },
     "metadata": {
      "needs_background": "light"
     },
     "output_type": "display_data"
    }
   ],
   "source": [
    "tpct_over_hundred_million = tests_per_capita_table[tests_per_capita_table['population'] >= 100000000]\n",
    "tpct_over_hundred_million.index = range(1, len(tpct_over_hundred_million) + 1)\n",
    "tpct_over_hundred_million.head(15).plot.barh(x='Country', y='Test Per Capita')"
   ]
  },
  {
   "cell_type": "code",
   "execution_count": 20,
   "metadata": {},
   "outputs": [
    {
     "data": {
      "text/html": [
       "<div>\n",
       "<style scoped>\n",
       "    .dataframe tbody tr th:only-of-type {\n",
       "        vertical-align: middle;\n",
       "    }\n",
       "\n",
       "    .dataframe tbody tr th {\n",
       "        vertical-align: top;\n",
       "    }\n",
       "\n",
       "    .dataframe thead th {\n",
       "        text-align: right;\n",
       "    }\n",
       "</style>\n",
       "<table border=\"1\" class=\"dataframe\">\n",
       "  <thead>\n",
       "    <tr style=\"text-align: right;\">\n",
       "      <th></th>\n",
       "      <th>Country</th>\n",
       "      <th>Total Cases</th>\n",
       "      <th>Total Deaths</th>\n",
       "      <th>Death Rate</th>\n",
       "    </tr>\n",
       "  </thead>\n",
       "  <tbody>\n",
       "    <tr>\n",
       "      <th>1</th>\n",
       "      <td>Belgium</td>\n",
       "      <td>49517</td>\n",
       "      <td>7765.0</td>\n",
       "      <td>15.681483</td>\n",
       "    </tr>\n",
       "    <tr>\n",
       "      <th>2</th>\n",
       "      <td>UK</td>\n",
       "      <td>177454</td>\n",
       "      <td>27510.0</td>\n",
       "      <td>15.502609</td>\n",
       "    </tr>\n",
       "    <tr>\n",
       "      <th>3</th>\n",
       "      <td>France</td>\n",
       "      <td>167346</td>\n",
       "      <td>24594.0</td>\n",
       "      <td>14.696497</td>\n",
       "    </tr>\n",
       "    <tr>\n",
       "      <th>4</th>\n",
       "      <td>Italy</td>\n",
       "      <td>207428</td>\n",
       "      <td>28236.0</td>\n",
       "      <td>13.612434</td>\n",
       "    </tr>\n",
       "    <tr>\n",
       "      <th>5</th>\n",
       "      <td>Netherlands</td>\n",
       "      <td>40236</td>\n",
       "      <td>4987.0</td>\n",
       "      <td>12.394373</td>\n",
       "    </tr>\n",
       "  </tbody>\n",
       "</table>\n",
       "</div>"
      ],
      "text/plain": [
       "       Country  Total Cases  Total Deaths  Death Rate\n",
       "1      Belgium        49517        7765.0   15.681483\n",
       "2           UK       177454       27510.0   15.502609\n",
       "3       France       167346       24594.0   14.696497\n",
       "4        Italy       207428       28236.0   13.612434\n",
       "5  Netherlands        40236        4987.0   12.394373"
      ]
     },
     "execution_count": 20,
     "metadata": {},
     "output_type": "execute_result"
    }
   ],
   "source": [
    "death_rate = pd.DataFrame(corona_virus_detailed_table, columns=['Country', 'Total Cases', 'Total Deaths'])\n",
    "death_rate['Death Rate'] = (death_rate['Total Deaths'] / death_rate['Total Cases']) * 100\n",
    "death_rate.sort_values(by='Death Rate', ascending=False, inplace=True)\n",
    "death_rate = death_rate[death_rate['Total Cases'] >= 1000]\n",
    "death_rate.index = range(1, len(death_rate) + 1)\n",
    "death_rate.head()"
   ]
  },
  {
   "cell_type": "code",
   "execution_count": 21,
   "metadata": {},
   "outputs": [
    {
     "data": {
      "text/html": [
       "<div>\n",
       "<style scoped>\n",
       "    .dataframe tbody tr th:only-of-type {\n",
       "        vertical-align: middle;\n",
       "    }\n",
       "\n",
       "    .dataframe tbody tr th {\n",
       "        vertical-align: top;\n",
       "    }\n",
       "\n",
       "    .dataframe thead th {\n",
       "        text-align: right;\n",
       "    }\n",
       "</style>\n",
       "<table border=\"1\" class=\"dataframe\">\n",
       "  <thead>\n",
       "    <tr style=\"text-align: right;\">\n",
       "      <th></th>\n",
       "      <th>Country</th>\n",
       "      <th>Total Cases</th>\n",
       "      <th>Total Recovered</th>\n",
       "      <th>Percentage Recovered</th>\n",
       "    </tr>\n",
       "  </thead>\n",
       "  <tbody>\n",
       "    <tr>\n",
       "      <th>1</th>\n",
       "      <td>Anguilla</td>\n",
       "      <td>3</td>\n",
       "      <td>3.0</td>\n",
       "      <td>100.000000</td>\n",
       "    </tr>\n",
       "    <tr>\n",
       "      <th>2</th>\n",
       "      <td>St. Barth</td>\n",
       "      <td>6</td>\n",
       "      <td>6.0</td>\n",
       "      <td>100.000000</td>\n",
       "    </tr>\n",
       "    <tr>\n",
       "      <th>3</th>\n",
       "      <td>Greenland</td>\n",
       "      <td>11</td>\n",
       "      <td>11.0</td>\n",
       "      <td>100.000000</td>\n",
       "    </tr>\n",
       "    <tr>\n",
       "      <th>4</th>\n",
       "      <td>Falkland Islands</td>\n",
       "      <td>13</td>\n",
       "      <td>13.0</td>\n",
       "      <td>100.000000</td>\n",
       "    </tr>\n",
       "    <tr>\n",
       "      <th>5</th>\n",
       "      <td>Faeroe Islands</td>\n",
       "      <td>187</td>\n",
       "      <td>184.0</td>\n",
       "      <td>98.395722</td>\n",
       "    </tr>\n",
       "    <tr>\n",
       "      <th>6</th>\n",
       "      <td>Cambodia</td>\n",
       "      <td>122</td>\n",
       "      <td>120.0</td>\n",
       "      <td>98.360656</td>\n",
       "    </tr>\n",
       "    <tr>\n",
       "      <th>7</th>\n",
       "      <td>New Caledonia</td>\n",
       "      <td>18</td>\n",
       "      <td>17.0</td>\n",
       "      <td>94.444444</td>\n",
       "    </tr>\n",
       "    <tr>\n",
       "      <th>8</th>\n",
       "      <td>Mauritius</td>\n",
       "      <td>332</td>\n",
       "      <td>312.0</td>\n",
       "      <td>93.975904</td>\n",
       "    </tr>\n",
       "    <tr>\n",
       "      <th>9</th>\n",
       "      <td>Iceland</td>\n",
       "      <td>1798</td>\n",
       "      <td>1689.0</td>\n",
       "      <td>93.937709</td>\n",
       "    </tr>\n",
       "    <tr>\n",
       "      <th>10</th>\n",
       "      <td>China</td>\n",
       "      <td>82875</td>\n",
       "      <td>77685.0</td>\n",
       "      <td>93.737557</td>\n",
       "    </tr>\n",
       "  </tbody>\n",
       "</table>\n",
       "</div>"
      ],
      "text/plain": [
       "             Country  Total Cases  Total Recovered  Percentage Recovered\n",
       "1           Anguilla            3              3.0            100.000000\n",
       "2          St. Barth            6              6.0            100.000000\n",
       "3          Greenland           11             11.0            100.000000\n",
       "4   Falkland Islands           13             13.0            100.000000\n",
       "5     Faeroe Islands          187            184.0             98.395722\n",
       "6           Cambodia          122            120.0             98.360656\n",
       "7      New Caledonia           18             17.0             94.444444\n",
       "8          Mauritius          332            312.0             93.975904\n",
       "9            Iceland         1798           1689.0             93.937709\n",
       "10             China        82875          77685.0             93.737557"
      ]
     },
     "execution_count": 21,
     "metadata": {},
     "output_type": "execute_result"
    }
   ],
   "source": [
    "percentage_recovered = pd.DataFrame(corona_virus_detailed_table, columns=['Country', 'Total Cases', 'Total Recovered'])\n",
    "percentage_recovered['Percentage Recovered'] = (percentage_recovered['Total Recovered']/percentage_recovered['Total Cases']) * 100\n",
    "percentage_recovered.sort_values(by='Percentage Recovered', ascending=False, inplace=True)\n",
    "percentage_recovered.index = range(1, len(percentage_recovered) + 1)\n",
    "percentage_recovered.head(10)"
   ]
  },
  {
   "cell_type": "code",
   "execution_count": 25,
   "metadata": {},
   "outputs": [
    {
     "data": {
      "text/html": [
       "<div>\n",
       "<style scoped>\n",
       "    .dataframe tbody tr th:only-of-type {\n",
       "        vertical-align: middle;\n",
       "    }\n",
       "\n",
       "    .dataframe tbody tr th {\n",
       "        vertical-align: top;\n",
       "    }\n",
       "\n",
       "    .dataframe thead th {\n",
       "        text-align: right;\n",
       "    }\n",
       "</style>\n",
       "<table border=\"1\" class=\"dataframe\">\n",
       "  <thead>\n",
       "    <tr style=\"text-align: right;\">\n",
       "      <th></th>\n",
       "      <th>Country</th>\n",
       "      <th>Total Cases</th>\n",
       "      <th>Active Cases</th>\n",
       "      <th>Serious / Critical Cases</th>\n",
       "      <th>% Active(of Total Cases)</th>\n",
       "      <th>% Critical(of active)</th>\n",
       "    </tr>\n",
       "  </thead>\n",
       "  <tbody>\n",
       "    <tr>\n",
       "      <th>1</th>\n",
       "      <td>USA</td>\n",
       "      <td>1132038</td>\n",
       "      <td>904589</td>\n",
       "      <td>16481.0</td>\n",
       "      <td>79.908007</td>\n",
       "      <td>1.821932</td>\n",
       "    </tr>\n",
       "    <tr>\n",
       "      <th>2</th>\n",
       "      <td>Spain</td>\n",
       "      <td>245567</td>\n",
       "      <td>74234</td>\n",
       "      <td>2500.0</td>\n",
       "      <td>30.229632</td>\n",
       "      <td>3.367729</td>\n",
       "    </tr>\n",
       "    <tr>\n",
       "      <th>3</th>\n",
       "      <td>Italy</td>\n",
       "      <td>207428</td>\n",
       "      <td>100943</td>\n",
       "      <td>1578.0</td>\n",
       "      <td>48.664115</td>\n",
       "      <td>1.563258</td>\n",
       "    </tr>\n",
       "    <tr>\n",
       "      <th>4</th>\n",
       "      <td>UK</td>\n",
       "      <td>177454</td>\n",
       "      <td>149600</td>\n",
       "      <td>1559.0</td>\n",
       "      <td>84.303538</td>\n",
       "      <td>1.042112</td>\n",
       "    </tr>\n",
       "    <tr>\n",
       "      <th>5</th>\n",
       "      <td>France</td>\n",
       "      <td>167346</td>\n",
       "      <td>92540</td>\n",
       "      <td>3878.0</td>\n",
       "      <td>55.298603</td>\n",
       "      <td>4.190620</td>\n",
       "    </tr>\n",
       "  </tbody>\n",
       "</table>\n",
       "</div>"
      ],
      "text/plain": [
       "  Country  Total Cases  Active Cases  Serious / Critical Cases  \\\n",
       "1     USA      1132038        904589                   16481.0   \n",
       "2   Spain       245567         74234                    2500.0   \n",
       "3   Italy       207428        100943                    1578.0   \n",
       "4      UK       177454        149600                    1559.0   \n",
       "5  France       167346         92540                    3878.0   \n",
       "\n",
       "   % Active(of Total Cases)  % Critical(of active)  \n",
       "1                 79.908007               1.821932  \n",
       "2                 30.229632               3.367729  \n",
       "3                 48.664115               1.563258  \n",
       "4                 84.303538               1.042112  \n",
       "5                 55.298603               4.190620  "
      ]
     },
     "execution_count": 25,
     "metadata": {},
     "output_type": "execute_result"
    }
   ],
   "source": [
    "active_table = pd.DataFrame(corona_virus_detailed_table, columns=['Country', 'Total Cases', 'Active Cases', 'Serious / Critical Cases'])\n",
    "active_table['% Active(of Total Cases)'] = (active_table['Active Cases']/active_table['Total Cases']) * 100\n",
    "active_table['% Critical(of active)'] = (active_table['Serious / Critical Cases']/active_table['Active Cases']) * 100\n",
    "# active_table.sort_values(by='% Critical(of active)', ascending=False, inplace=True)\n",
    "# active_table.index = range(1, len(active_table) + 1)\n",
    "active_table.head()"
   ]
  },
  {
   "cell_type": "code",
   "execution_count": 30,
   "metadata": {},
   "outputs": [
    {
     "data": {
      "text/plain": [
       "0.0008457078031674277"
      ]
     },
     "execution_count": 30,
     "metadata": {},
     "output_type": "execute_result"
    }
   ],
   "source": [
    "cases_per_capita = pd.DataFrame(corona_virus_detailed_table, columns=['Country', 'Total Cases', 'population'])\n",
    "cases_per_capita['Cases Per Capita'] = cases_per_capita['Total Cases'] / cases_per_capita['population']\n",
    "cases_per_capita.sort_values(by='Cases Per Capita', ascending=False, inplace=True)\n",
    "cases_per_capita.index = range(1, len(cases_per_capita) + 1)\n",
    "cases_per_capita.head(15).plot.barh(x='Country', y='Cases Per Capita')"
   ]
  },
  {
   "cell_type": "code",
   "execution_count": 24,
   "metadata": {},
   "outputs": [],
   "source": [
    "# corona_virus_detailed_table[corona_virus_detailed_table['population'].isna() ]\n",
    "# corona_virus_detailed_table[corona_virus_detailed_table['Country'].isin([ 'S. Korea', 'Czechia', 'Vietnam', 'North Macedonia'])  ]"
   ]
  }
 ],
 "metadata": {
  "kernelspec": {
   "display_name": "Python 3",
   "language": "python",
   "name": "python3"
  },
  "language_info": {
   "codemirror_mode": {
    "name": "ipython",
    "version": 3
   },
   "file_extension": ".py",
   "mimetype": "text/x-python",
   "name": "python",
   "nbconvert_exporter": "python",
   "pygments_lexer": "ipython3",
   "version": "3.7.4"
  }
 },
 "nbformat": 4,
 "nbformat_minor": 2
}
